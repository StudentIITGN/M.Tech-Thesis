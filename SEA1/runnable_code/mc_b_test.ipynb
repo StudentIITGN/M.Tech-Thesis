{
 "cells": [
  {
   "cell_type": "code",
   "execution_count": 1,
   "id": "f748349f",
   "metadata": {},
   "outputs": [],
   "source": [
    "import numpy as np\n",
    "\n",
    "from etas.mc_b_est import estimate_mc, round_half_up"
   ]
  },
  {
   "cell_type": "code",
   "execution_count": 2,
   "id": "0cdd6e4a",
   "metadata": {},
   "outputs": [
    {
     "name": "stdout",
     "output_type": "stream",
     "text": [
      "\n",
      "testing mc 4.0\n",
      "..p-value:  0.0\n",
      "\n",
      "testing mc 4.1\n",
      "..p-value:  0.0\n",
      "\n",
      "testing mc 4.2\n",
      "..p-value:  0.0\n",
      "\n",
      "testing mc 4.3\n",
      "..p-value:  0.0\n",
      "\n",
      "testing mc 4.4\n",
      "..p-value:  0.0\n",
      "\n",
      "testing mc 4.5\n",
      "..p-value:  0.0\n",
      "\n",
      "testing mc 4.6\n",
      "..p-value:  0.001\n",
      "\n",
      "testing mc 4.7\n",
      "..p-value:  0.037\n",
      "\n",
      "testing mc 4.8\n",
      "..p-value:  0.843\n",
      "\n",
      "\n",
      "First mc to pass the test: 4.8 \n",
      "with a beta of: 3.05686869716036\n"
     ]
    }
   ],
   "source": [
    "if __name__ == '__main__':\n",
    "    magnitude_sample = np.load( r'C:\\Users\\Dakshata\\OneDrive - iitgn.ac.in\\Thesis\\Thesis\\All_SEA\\SEA1\\InputData\\magnitudes.npy')\n",
    "\n",
    "    mcs = round_half_up(np.arange(4, 7.5, 0.1), 1)\n",
    "    mcs_tested, ks_distances, p_values, mc_winner, beta_winner = estimate_mc(\n",
    "        magnitude_sample,\n",
    "        mcs,\n",
    "        delta_m=0.1,\n",
    "        p_pass=0.05,\n",
    "        stop_when_passed=True,\n",
    "        verbose=True,\n",
    "        n_samples=1000\n",
    "    )\n"
   ]
  },
  {
   "cell_type": "code",
   "execution_count": null,
   "id": "faa4076d",
   "metadata": {},
   "outputs": [],
   "source": []
  }
 ],
 "metadata": {
  "kernelspec": {
   "display_name": "Python 3 (ipykernel)",
   "language": "python",
   "name": "python3"
  },
  "language_info": {
   "codemirror_mode": {
    "name": "ipython",
    "version": 3
   },
   "file_extension": ".py",
   "mimetype": "text/x-python",
   "name": "python",
   "nbconvert_exporter": "python",
   "pygments_lexer": "ipython3",
   "version": "3.11.5"
  }
 },
 "nbformat": 4,
 "nbformat_minor": 5
}
